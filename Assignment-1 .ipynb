{
 "cells": [
  {
   "cell_type": "markdown",
   "metadata": {},
   "source": [
    "***\n",
    "\n",
    "**Assignment 1:Basic Image Analysis Operations.** \n",
    "\n",
    "***"
   ]
  },
  {
   "cell_type": "code",
   "execution_count": null,
   "metadata": {},
   "outputs": [],
   "source": [
    "import numpy as np\n",
    "import glob\n",
    "import cv2 as cv\n",
    "from skimage import io\n",
    "import matplotlib.pyplot as plt\n",
    "import ipyplot\n",
    "from skimage import exposure\n",
    "from scipy import signal\n",
    "from skimage.util import random_noise\n",
    "from scipy import ndimage\n",
    "from scipy.ndimage import gaussian_filter\n",
    "from scipy.ndimage import gaussian_laplace\n",
    "\n",
    "%matplotlib inline\n",
    "%run helper\n"
   ]
  },
  {
   "cell_type": "markdown",
   "metadata": {},
   "source": [
    "***\n",
    "\n",
    "**Task 2.1 Solution: Load the set of images and display them as Grayscale and rgb images. You are required to show these images ”inline” rather than creating a new window for every other image.** \n",
    "\n",
    "***"
   ]
  },
  {
   "cell_type": "code",
   "execution_count": null,
   "metadata": {},
   "outputs": [],
   "source": [
    "print(\"\\n\\nTask 2.1 Solution: Load the set of images and display them as Grayscale and rgb images. You are required to show these images ”inline” rather than creating a new window for every other image.\\n\\n\")\n",
    "\n",
    "grayscale_images = []\n",
    "color_images= []\n",
    "for img in glob.glob('Images/*.*'):\n",
    "    grayscale_images.append(cv.imread(img,0))\n",
    "    color_images.append(cv.imread(img,1))\n",
    "    \n",
    "print (\"GrayScale Images\")\n",
    "ipyplot.plot_images(grayscale_images)\n",
    "print (\"Color Images\")\n",
    "ipyplot.plot_images(color_images)"
   ]
  },
  {
   "cell_type": "markdown",
   "metadata": {},
   "source": [
    "***\n",
    "\n",
    "**Task 2.2 Solution:Implement the function rgbExclusion() in the helper script, in which the input image is decomposed into the three channels: R, G and B and return the image excluding the specified channel. Display the results in notebook.** \n",
    "\n",
    "***"
   ]
  },
  {
   "cell_type": "code",
   "execution_count": null,
   "metadata": {},
   "outputs": [],
   "source": [
    "print(\"\\n\\nTask 2.2 Solution:Implement the function rgbExclusion() in the helper script, in which the input image is decomposed into the three channels: R, G and B and return the image excluding the specified channel. Display the results in notebook.\\n\\n\")\n",
    "\n",
    "for i in range(3):\n",
    "    fig, (ax1,ax2,ax3,ax4) = plt.subplots(1,4,figsize=(18, 5))\n",
    "   \n",
    "    ax1.imshow(cv.cvtColor(color_images[i], cv.COLOR_BGR2RGB))\n",
    "    ax1.set_title(\"Color Image\")\n",
    "    ax1.axis('off')\n",
    "    \n",
    "    ax2.imshow(cv.cvtColor(rgbExclusion(color_images[i],0), cv.COLOR_BGR2RGB))     # 0, for excuding the blue channel\n",
    "    ax2.set_title(\"Image After Excluding the Blue Channel\")\n",
    "    ax2.axis('off')\n",
    "\n",
    "    ax3.imshow(cv.cvtColor(rgbExclusion(color_images[i],1), cv.COLOR_BGR2RGB))     #1, for excuding the blue channel\n",
    "    ax3.set_title(\"Image After Excluding the Green Channel\")\n",
    "    ax3.axis('off')\n",
    "    \n",
    "    ax4.imshow(cv.cvtColor(rgbExclusion(color_images[i],2), cv.COLOR_BGR2RGB))    #2, for excuding the blue channel\n",
    "    ax4.set_title(\"Image After Excluding the Red Channel\")\n",
    "    ax4.axis('off')\n",
    "plt.show()"
   ]
  },
  {
   "cell_type": "markdown",
   "metadata": {},
   "source": [
    "***\n",
    "\n",
    "**Task 2.3 Solution:Take at-least 3 images from given set and plot histograms before and after applying histogram equalization.Show these image inline format i.e. grayscale image –> display histogram –> apply histogram equalization–> display the equalized image and its histogram.**\n",
    "\n",
    "***"
   ]
  },
  {
   "cell_type": "code",
   "execution_count": null,
   "metadata": {},
   "outputs": [],
   "source": [
    "\n",
    "print(\"\\n\\n Task 2.3 solution:Take at-least 3 images from given set and plot histograms before and after applying histogram equalization.Show these image inline format i.e. grayscale image –> display histogram –> apply histogram equalization–> display the equalized image and its histogram.\\n\\n\")\n",
    "for i in range(3):\n",
    "    fig, (ax1,ax2,ax3,ax4) = plt.subplots(1,4,figsize=(18, 3))\n",
    "    \n",
    "    \n",
    "    ax1.imshow(grayscale_images[i+5],cmap='gray')\n",
    "    ax1.set_title(\"grayscale_image\")\n",
    "    ax1.axis('off')\n",
    "    \n",
    "    ax2.hist(grayscale_images[i+5].flatten(),256,[0,256], color = 'g')\n",
    "    ax2.set_title(\"Histrogram of Grayscale Image\")\n",
    " \n",
    "    equ=cv.equalizeHist(grayscale_images[i+5])\n",
    "    ax3.imshow(equ,cmap='gray')    \n",
    "    ax3.set_title(\"After Histrogram Equalization of Image\")\n",
    "    ax3.axis('off')\n",
    "    \n",
    "    ax4.hist(equ.flatten(),256,[0,256], color = 'g')   \n",
    "    ax4.set_title(\"Equalized Histrogram Image\")\n",
    "plt.show()"
   ]
  },
  {
   "cell_type": "markdown",
   "metadata": {},
   "source": [
    "***\n",
    "\n",
    "**Task 2.4 Solution: Implementing the Convolution operation and Comparing the results of implemented function with the built-in function in python packages.** \n",
    "\n",
    "***"
   ]
  },
  {
   "cell_type": "code",
   "execution_count": null,
   "metadata": {},
   "outputs": [],
   "source": [
    "print(\"\\nImage Sharpening by Using User- defined convolution_2d_image() Function and  built-in function convolve2d() from Scipy image processing library and laplacian kernel \\n\\n\")\n",
    "for i in range(2):\n",
    "    fig, (ax1,ax2,ax3) = plt.subplots(1,3,figsize=(18, 4))\n",
    "   \n",
    "    ax1.imshow(cv.cvtColor(grayscale_images[i], cv.COLOR_BGR2RGB))\n",
    "    ax1.set_title(\"Original Image\")\n",
    "    ax1.axis('off')\n",
    "    \n",
    "    laplacian_kernel = np.array([[0,-1,0],[-1,5,-1],[0,-1,0]]) # convolving laplacian kernel for sharpening image\n",
    "    \n",
    "    ax2.imshow(cv.cvtColor(convolution_2d_image(grayscale_images[i],laplacian_kernel), cv.COLOR_BGR2RGB))     #Calling the function convolution_2d_image\n",
    "    ax2.set_title(\"Sharpened Image using laplacian kernel\\n user_defined function convolution_2d_image()\")\n",
    "    ax2.axis('off')\n",
    "\n",
    "    ax3.imshow(signal.convolve2d(grayscale_images[i],laplacian_kernel, 'same'),cmap='gray')     # Image Sharpening by Using built-in function from Scipy image processing library\n",
    "    ax3.set_title(\"Sharpened Image using Scipy library\\n built-in function convolve2d()\")\n",
    "    ax3.axis('off') \n",
    "plt.show()\n",
    "\n",
    "print(\"\\n\\nImage Blurring by Using User- defined convolution_2d_image() Function and  built-in function convolve2d() from Scipy image processing library and Box_Filter kernel \\n\\n\")\n",
    "\n",
    "for i in range(2):\n",
    "    fig, (ax1,ax2,ax3) = plt.subplots(1,3,figsize=(18, 4))\n",
    "   \n",
    "    ax1.imshow(cv.cvtColor(grayscale_images[i], cv.COLOR_BGR2RGB))\n",
    "    ax1.set_title(\"Original Image\")\n",
    "    ax1.axis('off')\n",
    "    \n",
    "    box_filter_kernel = np.ones((3,3),np.float32)/9 ## convolving Box filter kernel for blurring image\n",
    "    ax2.imshow(cv.cvtColor(convolution_2d_image(grayscale_images[i],box_filter_kernel), cv.COLOR_BGR2RGB))     #Calling the function convolution_2d_image() using Box filter kernel\n",
    "    ax2.set_title(\"Blurred Image using box filter kernel\\n user_defined function convolution_2d_image()\")\n",
    "    ax2.axis('off')\n",
    "    \n",
    "    ax3.imshow(signal.convolve2d(grayscale_images[i],box_filter_kernel, 'same'),cmap='gray')     # Image Blurred by Using built-in function from Scipy image processing library\n",
    "    ax3.set_title(\"Blurred Image using Scipy library\\n built-in function convolve2d()\")\n",
    "    ax3.axis('off')\n",
    "    \n",
    "plt.show()\n",
    "\n",
    "\n",
    "  \n",
    "    "
   ]
  },
  {
   "cell_type": "markdown",
   "metadata": {},
   "source": [
    "***\n",
    "\n",
    "**Task 2.5: Load a couple of images from the given set:**<br>\n",
    "       **Task 2.5.1 :Apply box filter using convolution, and display the resultant image.**<br>\n",
    "\n",
    "***"
   ]
  },
  {
   "cell_type": "code",
   "execution_count": null,
   "metadata": {},
   "outputs": [],
   "source": [
    "## Task 2.5.1 solution:Apply box filter using convolution, and display the resultant image.\n",
    "print(\"\\n\\nTask 2.5.1 solution:Apply box filter using convolution, and display the resultant image.\\n\\n\")\n",
    "\n",
    "for i in range(3):\n",
    "    fig, (ax1,ax2) = plt.subplots(1,2,figsize=(18, 4))   \n",
    "    ax1.imshow(grayscale_images[i+1], cmap='gray')\n",
    "    ax1.set_title(\"Simple Image\")\n",
    "    ax1.axis('off')\n",
    "    \n",
    "    ax2.imshow(box_filter(grayscale_images[i+1]),cmap='gray')\n",
    "    ax2.set_title(\"Blurred Image using Box Filter\")   \n",
    "    ax2.axis('off')\n",
    "plt.show()\n"
   ]
  },
  {
   "cell_type": "markdown",
   "metadata": {},
   "source": [
    "***\n",
    "\n",
    "**Task 2.5.2 :Apply Gaussian filter to the image, with varying sigma values.**<br>\n",
    "\n",
    "***"
   ]
  },
  {
   "cell_type": "code",
   "execution_count": null,
   "metadata": {},
   "outputs": [],
   "source": [
    "##Task 2.5.2 solution:Apply Gaussian filter to the image, with varying sigma values.\n",
    "print(\"\\n\\n2.5.2 solution:Apply Gaussian filter to the image, with varying sigma values.\\n\\n\")\n",
    "\n",
    "for i in range(3):\n",
    "    fig, (ax1, ax2, ax3, ax4) = plt.subplots(1,4,figsize=(18, 4))   \n",
    "    ax1.imshow(cv.cvtColor(color_images[i], cv.COLOR_BGR2RGB))\n",
    "    ax1.set_title(\"Simple Image\")\n",
    "    ax1.axis('off')\n",
    "    \n",
    "    ax2.imshow(cv.cvtColor(cv.GaussianBlur(color_images[i], (5,5),sigmaX=1), cv.COLOR_BGR2RGB))\n",
    "    ax2.set_title(\"Gaussian filter and sigma value= %i\" % (i+1))  \n",
    "    ax2.axis('off')\n",
    "    \n",
    "    ax3.imshow(cv.cvtColor(cv.GaussianBlur(color_images[i], (5,5),sigmaX=2+i), cv.COLOR_BGR2RGB))\n",
    "    ax3.set_title(\"Gaussian filter and sigma value= %i\" % (i+3))\n",
    "    ax3.axis('off')\n",
    "    \n",
    "    ax4.imshow(cv.cvtColor(cv.GaussianBlur(color_images[i], (5,5),sigmaX=3+i), cv.COLOR_BGR2RGB))\n",
    "    ax4.set_title(\"Gaussian filter and sigma value= %i\" % (i+4))\n",
    "    ax4.axis('off')\n",
    "plt.show()\n",
    "\n"
   ]
  },
  {
   "cell_type": "markdown",
   "metadata": {},
   "source": [
    "***\n",
    "\n",
    "**Task 2.5.3 :Add Gausian Noise and Salt and Pepper Noise to them.**<br>\n",
    "**Task 2.5.4 :Apply Gaussian Filter and Median Filters.**<br> \n",
    "\n",
    "***"
   ]
  },
  {
   "cell_type": "code",
   "execution_count": null,
   "metadata": {},
   "outputs": [],
   "source": [
    "##  2.5.3 solution:Add Gausian Noise and Salt and Pepper Noise to them.\n",
    "##Task 2.5.4 solution:Apply Gaussian Filter and Median Filters.\n",
    "print(\"\\n\\nTask 2.5.3 solution:Add Gausian Noise and Salt and Pepper Noise to them.\\nTask 2.5.4 solution:Apply Gaussian Filter and Median Filters.\\n\\n\")\n",
    "\n",
    "for i in range(3):\n",
    "    fig, (ax1, ax2, ax3, ax4) = plt.subplots(1,4,figsize=(18, 4))   \n",
    "    ax1.imshow(cv.cvtColor(color_images[i+2], cv.COLOR_BGR2RGB))\n",
    "    ax1.set_title(\"Original Image\")\n",
    "    ax1.axis('off')\n",
    "    \n",
    "    gaussian_noise_img= guassian_noise(color_images[i+2]) # Generate Gaussian noise\n",
    "    sp_noise_img = sp_noise(gaussian_noise_img) # Generate salt & paper noise\n",
    "    ax2.imshow(cv.cvtColor(sp_noise_img, cv.COLOR_BGR2RGB)) # displaying the image after applying Gaussian noise andsalt & paper noise\n",
    "    ax2.set_title(\"Applying Gaussian & Salt-Paper Noise \")  \n",
    "    ax2.axis('off')\n",
    "    \n",
    "    ax3.imshow(cv.cvtColor(cv.GaussianBlur(sp_noise_img, (5,5),sigmaX=3), cv.COLOR_BGR2RGB)) # applying Gaussian filter on Gaussian noise andsalt & paper noise image\n",
    "    ax3.set_title(\"Applying Gaussian filter with sigma value=3 \")\n",
    "    ax3.axis('off')\n",
    "    \n",
    "    ax4.imshow(cv.cvtColor(cv.medianBlur(sp_noise_img,3), cv.COLOR_BGR2RGB))# applying Median filter on Gaussian noise andsalt & paper noise image\n",
    "    ax4.set_title(\"Applying Median filter with value=3\")\n",
    "    ax4.axis('off')\n",
    "plt.show()"
   ]
  },
  {
   "cell_type": "markdown",
   "metadata": {},
   "source": [
    "***\n",
    "\n",
    "**Task 2.5.5 :Display mesh plots for different i) Gaussian filters, ii) First Order Derivative of Gaussian, iii)Laplacian of Gaussian; using different sigma values.**<br>\n",
    "\n",
    "***    "
   ]
  },
  {
   "cell_type": "code",
   "execution_count": null,
   "metadata": {},
   "outputs": [],
   "source": [
    "\n",
    "## Task 2.5.5 solution:Display mesh plots for different i) Gaussian filters, ii) First Order Derivative of Gaussian, iii)Laplacian of Gaussian; using different sigma values\n",
    "print(\"\\n\\nTask 2.5.5 solution:Display mesh plots for different i) Gaussian filters, ii) First Order Derivative of Gaussian, iii)Laplacian of Gaussian; using different sigma values\\n\\n\")\n",
    "\n",
    "for i in range(3):\n",
    "    fig, (ax1,ax2,ax3,ax4) = plt.subplots(1,4,figsize=(18, 5))\n",
    "   \n",
    "    ax1.imshow(cv.cvtColor(color_images[i+1], cv.COLOR_BGR2RGB))\n",
    "    ax1.set_title(\"Simple Image\")\n",
    "    ax1.axis('off')\n",
    " \n",
    "    ax2.imshow(cv.cvtColor(cv.GaussianBlur(color_images[i+1],(5,5),2+i), cv.COLOR_BGR2RGB)) #applying the gaussian filter\n",
    "    title = \"Apply Gaussian Filter, Sigma = %i\" % (2+i)\n",
    "    ax2.set_title(title)\n",
    "    ax2.axis('off')\n",
    "\n",
    "    ax3.imshow(gaussian_filter(color_images[i+1], sigma=2+i))   #applying the First Order Derivative of Gaussian\n",
    "    title = \"First order dervative of Gaussian, Sigma = %i\" % (2+i)\n",
    "    ax3.set_title(title)\n",
    "    ax3.axis('off')\n",
    "\n",
    "    ax4.imshow(gaussian_laplace(color_images[i+1], sigma=2+i))  #applying the Laplacian of Gaussian\n",
    "    title = \"Laplacian of Gaussian, Sigma = %i\" % (2+i)\n",
    "    ax4.set_title(title)\n",
    "    ax4.axis('off')\n"
   ]
  },
  {
   "cell_type": "markdown",
   "metadata": {},
   "source": [
    "***\n",
    "\n",
    "**Task 2.6.1:Load a few images from given set and Apply Sobel operator, computer gradient magnitude and display the results (original image, gradient images and gradient magnitude image).** <br>\n",
    "\n",
    "\n",
    "***"
   ]
  },
  {
   "cell_type": "code",
   "execution_count": null,
   "metadata": {},
   "outputs": [],
   "source": [
    "## Task 2.6.1:Load a few images from given set and Apply Sobel operator, computer gradient magnitude and display the results (original image, gradient images and gradient magnitude image).\n",
    "print(\"\\n\\nTask 2.6.1: Apply Sobel operator, computer gradient magnitude and display the results (original image, gradient images and gradient magnitude image\\n\\n\")\n",
    "\n",
    "\n",
    "for i in range(3):\n",
    "    fig, (ax1,ax2,ax3,ax4) = plt.subplots(1,4,figsize=(18, 5))\n",
    "   \n",
    "    ax1.imshow(grayscale_images[i+4],cmap='gray')\n",
    "    ax1.set_title(\"Simple Image\")\n",
    "    ax1.axis('off')\n",
    "\n",
    "    image_X=cv.Sobel(grayscale_images[i+4],cv.CV_64F,1,0,ksize=5)\n",
    "    ax2.imshow(image_X,cmap='gray') #computing gradient X-direction magnitute\n",
    "    ax2.set_title(\"Sobel X direction gradient image\")\n",
    "    ax2.axis('off')\n",
    "\n",
    "    image_Y=cv.Sobel(grayscale_images[i+4],cv.CV_64F,0,1,ksize=5)\n",
    "    ax3.imshow(image_Y,cmap='gray') #computing gradient Y-direction magnitute\n",
    "    ax3.set_title(\"Sobel Y direction gradient image\")\n",
    "    ax3.axis('off')\n",
    "    \n",
    "    gradient_magnitude_img= np.sqrt(np.square( image_X) + np.square( image_Y)) #computing sobel gradient magnitute\n",
    "    gradient_magnitude_img *= 255.0 / gradient_magnitude_img.max()\n",
    "    \n",
    "    ax4.imshow(gradient_magnitude_img,cmap='gray') \n",
    "    ax4.set_title(\"Sobel gradient magnitude image\")\n",
    "    ax4.axis('off')\n",
    "plt.show()\n",
    "\n",
    "\n",
    "\n",
    "\n",
    "\n"
   ]
  },
  {
   "cell_type": "markdown",
   "metadata": {},
   "source": [
    "***\n",
    "**Task 2.6.2:Apply Laplacian of Gaussian, compute laplacian magnitude and display the results (original image,\n",
    "filtered images and laplacian magnitude image).**\n",
    "    \n",
    "***"
   ]
  },
  {
   "cell_type": "code",
   "execution_count": null,
   "metadata": {},
   "outputs": [],
   "source": [
    "#Task 2.6.2 solution:Apply Laplacian of Gaussian, compute laplacian magnitude and display the results (original image,filtered images and laplacian magnitude image).\n",
    "print(\"\\n\\nTask 2.6.2 solution:Apply Laplacian of Gaussian, compute laplacian magnitude and display the results (original image,filtered images and laplacian magnitude image).\\n\\n\")\n",
    "\n",
    "   \n",
    "for i in range(3): \n",
    "    fig, (ax1,ax2) = plt.subplots(1,2,figsize=(18, 4))\n",
    "    ax1.imshow(cv.cvtColor(grayscale_images[i+1], cv.COLOR_BGR2RGB))\n",
    "    ax1.set_title(\"original Image\")\n",
    "    ax1.axis('off')\n",
    "    \n",
    "    ax2.imshow(gaussian_laplace(grayscale_images[i+1], sigma=2+i),cmap='gray')\n",
    "    ax2.set_title(\"Filtered using Laplacian of Gaussian, Sigma = %i\" % (2+i))\n",
    "    ax2.axis('off')\n",
    "plt.show()"
   ]
  },
  {
   "cell_type": "markdown",
   "metadata": {},
   "source": [
    "***\n",
    "**Task 2.6.3:Apply Canny Edge Detector and display the results.**\n",
    "    \n",
    "***"
   ]
  },
  {
   "cell_type": "code",
   "execution_count": null,
   "metadata": {},
   "outputs": [],
   "source": [
    "#Task 2.6.3 solution:Apply Canny Edge Detector and display the results.\n",
    "print(\"\\n\\nTask 2.6.3:Apply Canny Edge Detector and display the results.\\n\\n\")\n",
    "\n",
    "for i in range(3):    \n",
    "    fig, (ax1,ax2) = plt.subplots(1,2,figsize=(18, 5))\n",
    "    ax1.imshow(grayscale_images[i+5],cmap='gray')\n",
    "    ax1.set_title(\"Original Image\")\n",
    "    ax1.axis('off')\n",
    "    \n",
    "    ax2.imshow(cv.Canny(grayscale_images[i+5],100,200),cmap='gray')\n",
    "    ax2.set_title(\"After Applying Cany Edge Detector\")\n",
    "    ax2.axis('off')\n",
    "plt.show()\n"
   ]
  }
 ],
 "metadata": {
  "kernelspec": {
   "display_name": "Python 3",
   "language": "python",
   "name": "python3"
  },
  "language_info": {
   "codemirror_mode": {
    "name": "ipython",
    "version": 3
   },
   "file_extension": ".py",
   "mimetype": "text/x-python",
   "name": "python",
   "nbconvert_exporter": "python",
   "pygments_lexer": "ipython3",
   "version": "3.8.3"
  }
 },
 "nbformat": 4,
 "nbformat_minor": 4
}
